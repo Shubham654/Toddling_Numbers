{
 "cells": [
  {
   "cell_type": "code",
   "execution_count": 22,
   "id": "ece6bec5",
   "metadata": {},
   "outputs": [],
   "source": [
    "import pandas as pd\n",
    "import matplotlib.pyplot as plt\n",
    "import numpy as np\n",
    "import seaborn as sns\n",
    "import tensorflow as tf\n",
    "from tensorflow import keras\n",
    "from tensorflow.keras.utils import plot_model\n",
    "from sklearn.neighbors import KNeighborsClassifier\n",
    "import warnings\n",
    "warnings.filterwarnings('ignore')\n",
    "%matplotlib inline"
   ]
  },
  {
   "cell_type": "code",
   "execution_count": 23,
   "id": "6a51a779",
   "metadata": {},
   "outputs": [],
   "source": [
    "df = keras.datasets.mnist.load_data()"
   ]
  },
  {
   "cell_type": "code",
   "execution_count": 24,
   "id": "465426e4",
   "metadata": {},
   "outputs": [],
   "source": [
    "(X_train,y_train),(X_test,y_test)=df"
   ]
  },
  {
   "cell_type": "code",
   "execution_count": 25,
   "id": "fff4afd2",
   "metadata": {},
   "outputs": [
    {
     "data": {
      "text/plain": [
       "((60000, 28, 28), (10000, 28, 28))"
      ]
     },
     "execution_count": 25,
     "metadata": {},
     "output_type": "execute_result"
    }
   ],
   "source": [
    "X_train.shape , X_test.shape"
   ]
  },
  {
   "cell_type": "code",
   "execution_count": 26,
   "id": "0a2f32b7",
   "metadata": {},
   "outputs": [
    {
     "name": "stdout",
     "output_type": "stream",
     "text": [
      "Total images of Hand written data is 70000\n"
     ]
    }
   ],
   "source": [
    "total = X_train.shape[0] + X_test.shape[0]\n",
    "print('Total images of Hand written data is', total)"
   ]
  },
  {
   "cell_type": "code",
   "execution_count": 4,
   "id": "8cad3799",
   "metadata": {},
   "outputs": [
    {
     "data": {
      "text/plain": [
       "(10000, 28, 28)"
      ]
     },
     "execution_count": 4,
     "metadata": {},
     "output_type": "execute_result"
    }
   ],
   "source": [
    "X_test.shape"
   ]
  },
  {
   "cell_type": "code",
   "execution_count": 5,
   "id": "6c37bdab",
   "metadata": {},
   "outputs": [],
   "source": [
    "X_train = X_train.reshape(60000, 28*28)\n",
    "X_test = X_test.reshape(10000, 28*28)"
   ]
  },
  {
   "cell_type": "code",
   "execution_count": 14,
   "id": "f392a1cf",
   "metadata": {},
   "outputs": [],
   "source": [
    "model = KNeighborsClassifier()\n",
    "x = model.fit(X_train, y_train)"
   ]
  },
  {
   "cell_type": "code",
   "execution_count": 13,
   "id": "ca9d7700",
   "metadata": {},
   "outputs": [],
   "source": [
    "# test_image = X_test[[1]]\n",
    "# plt.imshow(test_image.reshape(28, 28), cmap='gray')"
   ]
  },
  {
   "cell_type": "code",
   "execution_count": 12,
   "id": "61dbacaf",
   "metadata": {},
   "outputs": [],
   "source": [
    "# model.predict(test_image)[0]"
   ]
  },
  {
   "cell_type": "code",
   "execution_count": 11,
   "id": "82d2f0f8",
   "metadata": {},
   "outputs": [
    {
     "name": "stdout",
     "output_type": "stream",
     "text": [
      "Accuracy of kNN model is 96.88\n"
     ]
    }
   ],
   "source": [
    "accuracy = model.score(X_test[:10000], y_test[:10000])\n",
    "print(\"Accuracy of kNN model is\", accuracy*100)"
   ]
  },
  {
   "cell_type": "code",
   "execution_count": 15,
   "id": "1f361011",
   "metadata": {},
   "outputs": [
    {
     "data": {
      "text/plain": [
       "<60000x60000 sparse matrix of type '<class 'numpy.float64'>'\n",
       "\twith 300000 stored elements in Compressed Sparse Row format>"
      ]
     },
     "execution_count": 15,
     "metadata": {},
     "output_type": "execute_result"
    }
   ],
   "source": []
  },
  {
   "cell_type": "code",
   "execution_count": null,
   "id": "a5a7ccde",
   "metadata": {},
   "outputs": [],
   "source": []
  },
  {
   "cell_type": "code",
   "execution_count": null,
   "id": "1c06c440",
   "metadata": {},
   "outputs": [],
   "source": []
  }
 ],
 "metadata": {
  "kernelspec": {
   "display_name": "Python 3 (ipykernel)",
   "language": "python",
   "name": "python3"
  },
  "language_info": {
   "codemirror_mode": {
    "name": "ipython",
    "version": 3
   },
   "file_extension": ".py",
   "mimetype": "text/x-python",
   "name": "python",
   "nbconvert_exporter": "python",
   "pygments_lexer": "ipython3",
   "version": "3.9.7"
  }
 },
 "nbformat": 4,
 "nbformat_minor": 5
}
